{
 "cells": [
  {
   "cell_type": "code",
   "execution_count": 8,
   "id": "d8fe90d5-b9cc-4ae9-8af2-4d86423ed1b8",
   "metadata": {},
   "outputs": [
    {
     "name": "stdin",
     "output_type": "stream",
     "text": [
      "Enter the number of random customers to create:  5\n"
     ]
    },
    {
     "name": "stdout",
     "output_type": "stream",
     "text": [
      "Generating 5 customers...\n",
      "Creating customers in FastAPI...\n",
      "Customer created successfully: Alice Johnson\n",
      "Customer created successfully: Ethan Patel\n",
      "Customer created successfully: Sophia Nguyen\n",
      "Customer created successfully: Oliver Garcia\n",
      "Customer created successfully: Isabella Kim\n",
      "Customer creation process completed.\n"
     ]
    }
   ],
   "source": [
    "import os\n",
    "import openai\n",
    "import requests\n",
    "from dotenv import load_dotenv\n",
    "\n",
    "# Step 1: Set up your OpenAI API key and FastAPI endpoint\n",
    "load_dotenv()\n",
    "\n",
    "# Initialize OpenAI API\n",
    "OPENAI_API_KEY = os.getenv(\"OPENAI_API_KEY\")\n",
    "\n",
    "FASTAPI_URL = os.getenv(\"FASTAPI_URL\")\n",
    "\n",
    "\n",
    "\n",
    "def generate_customers(num_customers):\n",
    "    \"\"\"Use ChatGPT to generate random customer details.\"\"\"\n",
    "    prompt = (\n",
    "        f\"Generate {num_customers} random customers. Each customer should have the following fields: \"\n",
    "        \"name, email, and address. The email domain can be a random proper noun. Examples could be like:\"\n",
    "        \" john.henry@toytruck.com, or mary.larson@largetree.org, or smith.timothy@minihome.tv. The output should be a JSON array.\"\n",
    "    )\n",
    "\n",
    "    response = openai.ChatCompletion.create(\n",
    "        model=\"gpt-3.5-turbo\",\n",
    "        messages=[{\"role\": \"user\", \"content\": prompt}],\n",
    "        temperature=0.7,\n",
    "        max_tokens=500\n",
    "    )\n",
    "\n",
    "    customers = response[\"choices\"][0][\"message\"][\"content\"]\n",
    "    return customers\n",
    "\n",
    "def create_customer_via_fastapi(customer):\n",
    "    \"\"\"Send a single customer's data to the FastAPI endpoint.\"\"\"\n",
    "    headers = {\"Content-Type\": \"application/json\"}\n",
    "    response = requests.post(FASTAPI_URL, json=customer, headers=headers)\n",
    "\n",
    "    if response.status_code == 200 or response.status_code == 201:\n",
    "        print(f\"Customer created successfully: {customer['name']}\")\n",
    "    else:\n",
    "        print(f\"Failed to create customer: {customer['name']}\")\n",
    "        print(f\"Error: {response.text}\")\n",
    "\n",
    "def main():\n",
    "    # Step 2: Prompt the user for the number of customers to generate\n",
    "    try:\n",
    "        num_customers = int(input(\"Enter the number of random customers to create: \"))\n",
    "        if num_customers <= 0:\n",
    "            print(\"Please enter a positive number.\")\n",
    "            return\n",
    "        elif num_customers >= 11:\n",
    "            print(\"Too High, try again\")\n",
    "            return\n",
    "    except ValueError:\n",
    "        print(\"Invalid input. Please enter a number.\")\n",
    "        return\n",
    "\n",
    "    # Step 3: Generate customers using ChatGPT\n",
    "    print(f\"Generating {num_customers} customers...\")\n",
    "    try:\n",
    "        customers_json = generate_customers(num_customers)\n",
    "        customers = eval(customers_json)  # Convert the JSON string into Python list\n",
    "    except Exception as e:\n",
    "        print(\"Error generating customers:\", e)\n",
    "        return\n",
    "\n",
    "    # Step 4: Create each customer via the FastAPI endpoint\n",
    "    print(\"Creating customers in FastAPI...\")\n",
    "    for customer in customers:\n",
    "        create_customer_via_fastapi(customer)\n",
    "\n",
    "    print(\"Customer creation process completed.\")\n",
    "\n",
    "if __name__ == \"__main__\":\n",
    "    main()\n"
   ]
  },
  {
   "cell_type": "code",
   "execution_count": null,
   "id": "6810458b-4bf5-44f9-a550-6abc47a9d9e0",
   "metadata": {},
   "outputs": [],
   "source": [
    "12"
   ]
  }
 ],
 "metadata": {
  "kernelspec": {
   "display_name": "Python 3 (ipykernel)",
   "language": "python",
   "name": "python3"
  },
  "language_info": {
   "codemirror_mode": {
    "name": "ipython",
    "version": 3
   },
   "file_extension": ".py",
   "mimetype": "text/x-python",
   "name": "python",
   "nbconvert_exporter": "python",
   "pygments_lexer": "ipython3",
   "version": "3.11.9"
  }
 },
 "nbformat": 4,
 "nbformat_minor": 5
}
